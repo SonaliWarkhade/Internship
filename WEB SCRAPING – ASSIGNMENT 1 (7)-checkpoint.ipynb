{
 "cells": [
  {
   "cell_type": "markdown",
   "metadata": {},
   "source": [
    "7. Write a python program to scrape details of all the mobile phones under Rs. 20,000\n",
    "listed on Amazon.in. The scraped data should include Product Name, Price, Image URL\n",
    "and Average Rating."
   ]
  },
  {
   "cell_type": "code",
   "execution_count": 1,
   "metadata": {},
   "outputs": [],
   "source": [
    "#importing the required libraries\n",
    "from bs4 import BeautifulSoup\n",
    "import requests\n",
    "import pandas as pd"
   ]
  },
  {
   "cell_type": "markdown",
   "metadata": {},
   "source": [
    "First we will send get request to the webserver to get the source code of the page which is to be scraped by using the request library"
   ]
  },
  {
   "cell_type": "code",
   "execution_count": 2,
   "metadata": {},
   "outputs": [
    {
     "data": {
      "text/plain": [
       "<Response [503]>"
      ]
     },
     "execution_count": 2,
     "metadata": {},
     "output_type": "execute_result"
    }
   ],
   "source": [
    "page=requests.get(\"https://www.amazon.in/s?k=mobile+phones+under+20%2C000&ref=nb_sb_noss_1\")\n",
    "page"
   ]
  },
  {
   "cell_type": "markdown",
   "metadata": {},
   "source": [
    "lets see the webpage source code downloaded above looks like"
   ]
  },
  {
   "cell_type": "code",
   "execution_count": 3,
   "metadata": {},
   "outputs": [
    {
     "data": {
      "text/plain": [
       "b'<!DOCTYPE html>\\n<!--[if lt IE 7]> <html lang=\"en-us\" class=\"a-no-js a-lt-ie9 a-lt-ie8 a-lt-ie7\"> <![endif]-->\\n<!--[if IE 7]>    <html lang=\"en-us\" class=\"a-no-js a-lt-ie9 a-lt-ie8\"> <![endif]-->\\n<!--[if IE 8]>    <html lang=\"en-us\" class=\"a-no-js a-lt-ie9\"> <![endif]-->\\n<!--[if gt IE 8]><!-->\\n<html class=\"a-no-js\" lang=\"en-us\"><!--<![endif]--><head>\\n<meta http-equiv=\"content-type\" content=\"text/html; charset=UTF-8\">\\n<meta charset=\"utf-8\">\\n<meta http-equiv=\"X-UA-Compatible\" content=\"IE=edge,chrome=1\">\\n<title dir=\"ltr\">Amazon.in</title>\\n<meta name=\"viewport\" content=\"width=device-width\">\\n<link rel=\"stylesheet\" href=\"https://images-na.ssl-images-amazon.com/images/G/01/AUIClients/AmazonUI-3c913031596ca78a3768f4e934b1cc02ce238101.secure.min._V1_.css\">\\n<script>\\n\\nif (true === true) {\\n    var ue_t0 = (+ new Date()),\\n        ue_csm = window,\\n        ue = { t0: ue_t0, d: function() { return (+new Date() - ue_t0); } },\\n        ue_furl = \"fls-eu.amazon.in\",\\n        ue_mid = \"A21TJRUUN4KGV\",\\n        ue_sid = (document.cookie.match(/session-id=([0-9-]+)/) || [])[1],\\n        ue_sn = \"opfcaptcha.amazon.in\",\\n        ue_id = \\'DC1JK66Z8TWS50XF0AMD\\';\\n}\\n</script>\\n</head>\\n<body>\\n\\n<!--\\n        To discuss automated access to Amazon data please contact api-services-support@amazon.com.\\n        For information about migrating to our APIs refer to our Marketplace APIs at https://developer.amazonservices.in/ref=rm_c_sv, or our Product Advertising API at https://affiliate-program.amazon.in/gp/advertising/api/detail/main.html/ref=rm_c_ac for advertising use cases.\\n-->\\n\\n<!--\\nCorreios.DoNotSend\\n-->\\n\\n<div class=\"a-container a-padding-double-large\" style=\"min-width:350px;padding:44px 0 !important\">\\n\\n    <div class=\"a-row a-spacing-double-large\" style=\"width: 350px; margin: 0 auto\">\\n\\n        <div class=\"a-row a-spacing-medium a-text-center\"><i class=\"a-icon a-logo\"></i></div>\\n\\n        <div class=\"a-box a-alert a-alert-info a-spacing-base\">\\n            <div class=\"a-box-inner\">\\n                <i class=\"a-icon a-icon-alert\"></i>\\n                <h4>Enter the characters you see below</h4>\\n                <p class=\"a-last\">Sorry, we just need to make sure you\\'re not a robot. For best results, please make sure your browser is accepting cookies.</p>\\n                </div>\\n            </div>\\n\\n            <div class=\"a-section\">\\n\\n                <div class=\"a-box a-color-offset-background\">\\n                    <div class=\"a-box-inner a-padding-extra-large\">\\n\\n                        <form method=\"get\" action=\"/errors/validateCaptcha\" name=\"\">\\n                            <input type=hidden name=\"amzn\" value=\"ImjrDOY3ixc5gXznJlfGJA==\" /><input type=hidden name=\"amzn-r\" value=\"&#047;s?k&#061;mobile&#043;phones&#043;under&#043;20&#037;2C000&amp;ref&#061;nb_sb_noss_1\" />\\n                            <div class=\"a-row a-spacing-large\">\\n                                <div class=\"a-box\">\\n                                    <div class=\"a-box-inner\">\\n                                        <h4>Type the characters you see in this image:</h4>\\n                                        <!-- For automated access to price change or offer listing change events,\\n                                             please refer to the MWS Subscription API:\\n                                             https://developer.amazonservices.in/gp/mws/api.html/276-5247872-0590350?ie=UTF8&section=subscriptions&group=subscriptions&version=latest\\n                                        -->\\n                                        <div class=\"a-row a-text-center\">\\n                                            <img src=\"https://images-na.ssl-images-amazon.com/captcha/imzrkqqo/Captcha_hbcyvilqkf.jpg\">\\n                                        </div>\\n                                        <div class=\"a-row a-spacing-base\">\\n                                            <div class=\"a-row\">\\n                                                <div class=\"a-column a-span6\">\\n                                                </div>\\n                                                <div class=\"a-column a-span6 a-span-last a-text-right\">\\n                                                    <a onclick=\"window.location.reload()\">Try different image</a>\\n                                                </div>\\n                                            </div>\\n                                            <input autocomplete=\"off\" spellcheck=\"false\" placeholder=\"Type characters\" id=\"captchacharacters\" name=\"field-keywords\" class=\"a-span12\" autocapitalize=\"off\" autocorrect=\"off\" type=\"text\">\\n                                        </div>\\n                                    </div>\\n                                </div>\\n                            </div>\\n\\n                            <div class=\"a-section a-spacing-extra-large\">\\n\\n                                <div class=\"a-row\">\\n                                    <span class=\"a-button a-button-primary a-span12\">\\n                                        <span class=\"a-button-inner\">\\n                                            <button type=\"submit\" class=\"a-button-text\">Continue shopping</button>\\n                                        </span>\\n                                    </span>\\n                                </div>\\n\\n                            </div>\\n                        </form>\\n\\n                    </div>\\n                </div>\\n\\n            </div>\\n\\n        </div>\\n\\n        <div class=\"a-divider a-divider-section\"><div class=\"a-divider-inner\"></div></div>\\n\\n        <div class=\"a-text-center a-spacing-small a-size-mini\">\\n            <a href=\"https://www.amazon.in/gp/help/customer/display.html/ref=footer_cou?ie=UTF8&nodeId=200545940\">Conditions of Use &amp; Sale</a>\\n            <span class=\"a-letter-space\"></span>\\n            <span class=\"a-letter-space\"></span>\\n            <span class=\"a-letter-space\"></span>\\n            <span class=\"a-letter-space\"></span>\\n            <a href=\"https://www.amazon.in/gp/help/customer/display.html/ref=footer_privacy?ie=UTF8&nodeId=200534380\">Privacy Notice</a>\\n        </div>\\n\\n        <div class=\"a-text-center a-size-mini a-color-secondary\">\\n          &copy; 1996-2015, Amazon.com, Inc. or its affiliates\\n          <script>\\n           if (true === true) {\\n             document.write(\\'<img src=\"https://fls-eu.amaz\\'+\\'on.in/\\'+\\'1/oc-csi/1/OP/requestId=DC1JK66Z8TWS50XF0AMD&js=1\" />\\');\\n           };\\n          </script>\\n          <noscript>\\n            <img src=\"https://fls-eu.amazon.in/1/oc-csi/1/OP/requestId=DC1JK66Z8TWS50XF0AMD&js=0\" />\\n          </noscript>\\n        </div>\\n    </div>\\n    <script>\\n    if (true === true) {\\n        var head = document.getElementsByTagName(\\'head\\')[0],\\n            prefix = \"https://images-eu.ssl-images-amazon.com/images/G/01/csminstrumentation/\",\\n            elem = document.createElement(\"script\");\\n        elem.src = prefix + \"csm-captcha-instrumentation.min.js\";\\n        head.appendChild(elem);\\n\\n        elem = document.createElement(\"script\");\\n        elem.src = prefix + \"rd-script-6d68177fa6061598e9509dc4b5bdd08d.js\";\\n        head.appendChild(elem);\\n    }\\n    </script>\\n</body></html>\\n'"
      ]
     },
     "execution_count": 3,
     "metadata": {},
     "output_type": "execute_result"
    }
   ],
   "source": [
    "page.content"
   ]
  },
  {
   "cell_type": "markdown",
   "metadata": {},
   "source": [
    "let's see the page content with the help of beautiful soup."
   ]
  },
  {
   "cell_type": "code",
   "execution_count": 4,
   "metadata": {},
   "outputs": [
    {
     "data": {
      "text/plain": [
       "<!DOCTYPE html>\n",
       "\n",
       "<!--[if lt IE 7]> <html lang=\"en-us\" class=\"a-no-js a-lt-ie9 a-lt-ie8 a-lt-ie7\"> <![endif]-->\n",
       "<!--[if IE 7]>    <html lang=\"en-us\" class=\"a-no-js a-lt-ie9 a-lt-ie8\"> <![endif]-->\n",
       "<!--[if IE 8]>    <html lang=\"en-us\" class=\"a-no-js a-lt-ie9\"> <![endif]-->\n",
       "<!--[if gt IE 8]><!-->\n",
       "<html class=\"a-no-js\" lang=\"en-us\"><!--<![endif]--><head>\n",
       "<meta content=\"text/html; charset=utf-8\" http-equiv=\"content-type\"/>\n",
       "<meta charset=\"utf-8\"/>\n",
       "<meta content=\"IE=edge,chrome=1\" http-equiv=\"X-UA-Compatible\"/>\n",
       "<title dir=\"ltr\">Amazon.in</title>\n",
       "<meta content=\"width=device-width\" name=\"viewport\"/>\n",
       "<link href=\"https://images-na.ssl-images-amazon.com/images/G/01/AUIClients/AmazonUI-3c913031596ca78a3768f4e934b1cc02ce238101.secure.min._V1_.css\" rel=\"stylesheet\"/>\n",
       "<script>\n",
       "\n",
       "if (true === true) {\n",
       "    var ue_t0 = (+ new Date()),\n",
       "        ue_csm = window,\n",
       "        ue = { t0: ue_t0, d: function() { return (+new Date() - ue_t0); } },\n",
       "        ue_furl = \"fls-eu.amazon.in\",\n",
       "        ue_mid = \"A21TJRUUN4KGV\",\n",
       "        ue_sid = (document.cookie.match(/session-id=([0-9-]+)/) || [])[1],\n",
       "        ue_sn = \"opfcaptcha.amazon.in\",\n",
       "        ue_id = 'DC1JK66Z8TWS50XF0AMD';\n",
       "}\n",
       "</script>\n",
       "</head>\n",
       "<body>\n",
       "<!--\n",
       "        To discuss automated access to Amazon data please contact api-services-support@amazon.com.\n",
       "        For information about migrating to our APIs refer to our Marketplace APIs at https://developer.amazonservices.in/ref=rm_c_sv, or our Product Advertising API at https://affiliate-program.amazon.in/gp/advertising/api/detail/main.html/ref=rm_c_ac for advertising use cases.\n",
       "-->\n",
       "<!--\n",
       "Correios.DoNotSend\n",
       "-->\n",
       "<div class=\"a-container a-padding-double-large\" style=\"min-width:350px;padding:44px 0 !important\">\n",
       "<div class=\"a-row a-spacing-double-large\" style=\"width: 350px; margin: 0 auto\">\n",
       "<div class=\"a-row a-spacing-medium a-text-center\"><i class=\"a-icon a-logo\"></i></div>\n",
       "<div class=\"a-box a-alert a-alert-info a-spacing-base\">\n",
       "<div class=\"a-box-inner\">\n",
       "<i class=\"a-icon a-icon-alert\"></i>\n",
       "<h4>Enter the characters you see below</h4>\n",
       "<p class=\"a-last\">Sorry, we just need to make sure you're not a robot. For best results, please make sure your browser is accepting cookies.</p>\n",
       "</div>\n",
       "</div>\n",
       "<div class=\"a-section\">\n",
       "<div class=\"a-box a-color-offset-background\">\n",
       "<div class=\"a-box-inner a-padding-extra-large\">\n",
       "<form action=\"/errors/validateCaptcha\" method=\"get\" name=\"\">\n",
       "<input name=\"amzn\" type=\"hidden\" value=\"ImjrDOY3ixc5gXznJlfGJA==\"/><input name=\"amzn-r\" type=\"hidden\" value=\"/s?k=mobile+phones+under+20%2C000&amp;ref=nb_sb_noss_1\"/>\n",
       "<div class=\"a-row a-spacing-large\">\n",
       "<div class=\"a-box\">\n",
       "<div class=\"a-box-inner\">\n",
       "<h4>Type the characters you see in this image:</h4>\n",
       "<!-- For automated access to price change or offer listing change events,\n",
       "                                             please refer to the MWS Subscription API:\n",
       "                                             https://developer.amazonservices.in/gp/mws/api.html/276-5247872-0590350?ie=UTF8&section=subscriptions&group=subscriptions&version=latest\n",
       "                                        -->\n",
       "<div class=\"a-row a-text-center\">\n",
       "<img src=\"https://images-na.ssl-images-amazon.com/captcha/imzrkqqo/Captcha_hbcyvilqkf.jpg\"/>\n",
       "</div>\n",
       "<div class=\"a-row a-spacing-base\">\n",
       "<div class=\"a-row\">\n",
       "<div class=\"a-column a-span6\">\n",
       "</div>\n",
       "<div class=\"a-column a-span6 a-span-last a-text-right\">\n",
       "<a onclick=\"window.location.reload()\">Try different image</a>\n",
       "</div>\n",
       "</div>\n",
       "<input autocapitalize=\"off\" autocomplete=\"off\" autocorrect=\"off\" class=\"a-span12\" id=\"captchacharacters\" name=\"field-keywords\" placeholder=\"Type characters\" spellcheck=\"false\" type=\"text\"/>\n",
       "</div>\n",
       "</div>\n",
       "</div>\n",
       "</div>\n",
       "<div class=\"a-section a-spacing-extra-large\">\n",
       "<div class=\"a-row\">\n",
       "<span class=\"a-button a-button-primary a-span12\">\n",
       "<span class=\"a-button-inner\">\n",
       "<button class=\"a-button-text\" type=\"submit\">Continue shopping</button>\n",
       "</span>\n",
       "</span>\n",
       "</div>\n",
       "</div>\n",
       "</form>\n",
       "</div>\n",
       "</div>\n",
       "</div>\n",
       "</div>\n",
       "<div class=\"a-divider a-divider-section\"><div class=\"a-divider-inner\"></div></div>\n",
       "<div class=\"a-text-center a-spacing-small a-size-mini\">\n",
       "<a href=\"https://www.amazon.in/gp/help/customer/display.html/ref=footer_cou?ie=UTF8&amp;nodeId=200545940\">Conditions of Use &amp; Sale</a>\n",
       "<span class=\"a-letter-space\"></span>\n",
       "<span class=\"a-letter-space\"></span>\n",
       "<span class=\"a-letter-space\"></span>\n",
       "<span class=\"a-letter-space\"></span>\n",
       "<a href=\"https://www.amazon.in/gp/help/customer/display.html/ref=footer_privacy?ie=UTF8&amp;nodeId=200534380\">Privacy Notice</a>\n",
       "</div>\n",
       "<div class=\"a-text-center a-size-mini a-color-secondary\">\n",
       "          © 1996-2015, Amazon.com, Inc. or its affiliates\n",
       "          <script>\n",
       "           if (true === true) {\n",
       "             document.write('<img src=\"https://fls-eu.amaz'+'on.in/'+'1/oc-csi/1/OP/requestId=DC1JK66Z8TWS50XF0AMD&js=1\" />');\n",
       "           };\n",
       "          </script>\n",
       "<noscript>\n",
       "<img src=\"https://fls-eu.amazon.in/1/oc-csi/1/OP/requestId=DC1JK66Z8TWS50XF0AMD&amp;js=0\">\n",
       "</img></noscript>\n",
       "</div>\n",
       "</div>\n",
       "<script>\n",
       "    if (true === true) {\n",
       "        var head = document.getElementsByTagName('head')[0],\n",
       "            prefix = \"https://images-eu.ssl-images-amazon.com/images/G/01/csminstrumentation/\",\n",
       "            elem = document.createElement(\"script\");\n",
       "        elem.src = prefix + \"csm-captcha-instrumentation.min.js\";\n",
       "        head.appendChild(elem);\n",
       "\n",
       "        elem = document.createElement(\"script\");\n",
       "        elem.src = prefix + \"rd-script-6d68177fa6061598e9509dc4b5bdd08d.js\";\n",
       "        head.appendChild(elem);\n",
       "    }\n",
       "    </script>\n",
       "</body></html>"
      ]
     },
     "execution_count": 4,
     "metadata": {},
     "output_type": "execute_result"
    }
   ],
   "source": [
    "soup=BeautifulSoup(page.content, 'html.parser')\n",
    "soup"
   ]
  },
  {
   "cell_type": "code",
   "execution_count": 5,
   "metadata": {},
   "outputs": [
    {
     "name": "stdout",
     "output_type": "stream",
     "text": [
      "<!DOCTYPE html>\n",
      "<!--[if lt IE 7]> <html lang=\"en-us\" class=\"a-no-js a-lt-ie9 a-lt-ie8 a-lt-ie7\"> <![endif]-->\n",
      "<!--[if IE 7]>    <html lang=\"en-us\" class=\"a-no-js a-lt-ie9 a-lt-ie8\"> <![endif]-->\n",
      "<!--[if IE 8]>    <html lang=\"en-us\" class=\"a-no-js a-lt-ie9\"> <![endif]-->\n",
      "<!--[if gt IE 8]><!-->\n",
      "<html class=\"a-no-js\" lang=\"en-us\">\n",
      " <!--<![endif]-->\n",
      " <head>\n",
      "  <meta content=\"text/html; charset=utf-8\" http-equiv=\"content-type\"/>\n",
      "  <meta charset=\"utf-8\"/>\n",
      "  <meta content=\"IE=edge,chrome=1\" http-equiv=\"X-UA-Compatible\"/>\n",
      "  <title dir=\"ltr\">\n",
      "   Amazon.in\n",
      "  </title>\n",
      "  <meta content=\"width=device-width\" name=\"viewport\"/>\n",
      "  <link href=\"https://images-na.ssl-images-amazon.com/images/G/01/AUIClients/AmazonUI-3c913031596ca78a3768f4e934b1cc02ce238101.secure.min._V1_.css\" rel=\"stylesheet\"/>\n",
      "  <script>\n",
      "   if (true === true) {\n",
      "    var ue_t0 = (+ new Date()),\n",
      "        ue_csm = window,\n",
      "        ue = { t0: ue_t0, d: function() { return (+new Date() - ue_t0); } },\n",
      "        ue_furl = \"fls-eu.amazon.in\",\n",
      "        ue_mid = \"A21TJRUUN4KGV\",\n",
      "        ue_sid = (document.cookie.match(/session-id=([0-9-]+)/) || [])[1],\n",
      "        ue_sn = \"opfcaptcha.amazon.in\",\n",
      "        ue_id = 'DC1JK66Z8TWS50XF0AMD';\n",
      "}\n",
      "  </script>\n",
      " </head>\n",
      " <body>\n",
      "  <!--\n",
      "        To discuss automated access to Amazon data please contact api-services-support@amazon.com.\n",
      "        For information about migrating to our APIs refer to our Marketplace APIs at https://developer.amazonservices.in/ref=rm_c_sv, or our Product Advertising API at https://affiliate-program.amazon.in/gp/advertising/api/detail/main.html/ref=rm_c_ac for advertising use cases.\n",
      "-->\n",
      "  <!--\n",
      "Correios.DoNotSend\n",
      "-->\n",
      "  <div class=\"a-container a-padding-double-large\" style=\"min-width:350px;padding:44px 0 !important\">\n",
      "   <div class=\"a-row a-spacing-double-large\" style=\"width: 350px; margin: 0 auto\">\n",
      "    <div class=\"a-row a-spacing-medium a-text-center\">\n",
      "     <i class=\"a-icon a-logo\">\n",
      "     </i>\n",
      "    </div>\n",
      "    <div class=\"a-box a-alert a-alert-info a-spacing-base\">\n",
      "     <div class=\"a-box-inner\">\n",
      "      <i class=\"a-icon a-icon-alert\">\n",
      "      </i>\n",
      "      <h4>\n",
      "       Enter the characters you see below\n",
      "      </h4>\n",
      "      <p class=\"a-last\">\n",
      "       Sorry, we just need to make sure you're not a robot. For best results, please make sure your browser is accepting cookies.\n",
      "      </p>\n",
      "     </div>\n",
      "    </div>\n",
      "    <div class=\"a-section\">\n",
      "     <div class=\"a-box a-color-offset-background\">\n",
      "      <div class=\"a-box-inner a-padding-extra-large\">\n",
      "       <form action=\"/errors/validateCaptcha\" method=\"get\" name=\"\">\n",
      "        <input name=\"amzn\" type=\"hidden\" value=\"ImjrDOY3ixc5gXznJlfGJA==\"/>\n",
      "        <input name=\"amzn-r\" type=\"hidden\" value=\"/s?k=mobile+phones+under+20%2C000&amp;ref=nb_sb_noss_1\"/>\n",
      "        <div class=\"a-row a-spacing-large\">\n",
      "         <div class=\"a-box\">\n",
      "          <div class=\"a-box-inner\">\n",
      "           <h4>\n",
      "            Type the characters you see in this image:\n",
      "           </h4>\n",
      "           <!-- For automated access to price change or offer listing change events,\n",
      "                                             please refer to the MWS Subscription API:\n",
      "                                             https://developer.amazonservices.in/gp/mws/api.html/276-5247872-0590350?ie=UTF8&section=subscriptions&group=subscriptions&version=latest\n",
      "                                        -->\n",
      "           <div class=\"a-row a-text-center\">\n",
      "            <img src=\"https://images-na.ssl-images-amazon.com/captcha/imzrkqqo/Captcha_hbcyvilqkf.jpg\"/>\n",
      "           </div>\n",
      "           <div class=\"a-row a-spacing-base\">\n",
      "            <div class=\"a-row\">\n",
      "             <div class=\"a-column a-span6\">\n",
      "             </div>\n",
      "             <div class=\"a-column a-span6 a-span-last a-text-right\">\n",
      "              <a onclick=\"window.location.reload()\">\n",
      "               Try different image\n",
      "              </a>\n",
      "             </div>\n",
      "            </div>\n",
      "            <input autocapitalize=\"off\" autocomplete=\"off\" autocorrect=\"off\" class=\"a-span12\" id=\"captchacharacters\" name=\"field-keywords\" placeholder=\"Type characters\" spellcheck=\"false\" type=\"text\"/>\n",
      "           </div>\n",
      "          </div>\n",
      "         </div>\n",
      "        </div>\n",
      "        <div class=\"a-section a-spacing-extra-large\">\n",
      "         <div class=\"a-row\">\n",
      "          <span class=\"a-button a-button-primary a-span12\">\n",
      "           <span class=\"a-button-inner\">\n",
      "            <button class=\"a-button-text\" type=\"submit\">\n",
      "             Continue shopping\n",
      "            </button>\n",
      "           </span>\n",
      "          </span>\n",
      "         </div>\n",
      "        </div>\n",
      "       </form>\n",
      "      </div>\n",
      "     </div>\n",
      "    </div>\n",
      "   </div>\n",
      "   <div class=\"a-divider a-divider-section\">\n",
      "    <div class=\"a-divider-inner\">\n",
      "    </div>\n",
      "   </div>\n",
      "   <div class=\"a-text-center a-spacing-small a-size-mini\">\n",
      "    <a href=\"https://www.amazon.in/gp/help/customer/display.html/ref=footer_cou?ie=UTF8&amp;nodeId=200545940\">\n",
      "     Conditions of Use &amp; Sale\n",
      "    </a>\n",
      "    <span class=\"a-letter-space\">\n",
      "    </span>\n",
      "    <span class=\"a-letter-space\">\n",
      "    </span>\n",
      "    <span class=\"a-letter-space\">\n",
      "    </span>\n",
      "    <span class=\"a-letter-space\">\n",
      "    </span>\n",
      "    <a href=\"https://www.amazon.in/gp/help/customer/display.html/ref=footer_privacy?ie=UTF8&amp;nodeId=200534380\">\n",
      "     Privacy Notice\n",
      "    </a>\n",
      "   </div>\n",
      "   <div class=\"a-text-center a-size-mini a-color-secondary\">\n",
      "    © 1996-2015, Amazon.com, Inc. or its affiliates\n",
      "    <script>\n",
      "     if (true === true) {\n",
      "             document.write('<img src=\"https://fls-eu.amaz'+'on.in/'+'1/oc-csi/1/OP/requestId=DC1JK66Z8TWS50XF0AMD&js=1\" />');\n",
      "           };\n",
      "    </script>\n",
      "    <noscript>\n",
      "     <img src=\"https://fls-eu.amazon.in/1/oc-csi/1/OP/requestId=DC1JK66Z8TWS50XF0AMD&amp;js=0\">\n",
      "     </img>\n",
      "    </noscript>\n",
      "   </div>\n",
      "  </div>\n",
      "  <script>\n",
      "   if (true === true) {\n",
      "        var head = document.getElementsByTagName('head')[0],\n",
      "            prefix = \"https://images-eu.ssl-images-amazon.com/images/G/01/csminstrumentation/\",\n",
      "            elem = document.createElement(\"script\");\n",
      "        elem.src = prefix + \"csm-captcha-instrumentation.min.js\";\n",
      "        head.appendChild(elem);\n",
      "\n",
      "        elem = document.createElement(\"script\");\n",
      "        elem.src = prefix + \"rd-script-6d68177fa6061598e9509dc4b5bdd08d.js\";\n",
      "        head.appendChild(elem);\n",
      "    }\n",
      "  </script>\n",
      " </body>\n",
      "</html>\n",
      "\n"
     ]
    }
   ],
   "source": [
    "print(soup.prettify()) #see the content with alingment"
   ]
  },
  {
   "cell_type": "code",
   "execution_count": 6,
   "metadata": {},
   "outputs": [
    {
     "data": {
      "text/plain": [
       "[]"
      ]
     },
     "execution_count": 6,
     "metadata": {},
     "output_type": "execute_result"
    }
   ],
   "source": [
    "# so lets extract all tags having the mobile name\n",
    "mobile=soup.find_all('span', class_=\"a-size-medium a-color-base a-text-normal\")\n",
    "mobile"
   ]
  },
  {
   "cell_type": "code",
   "execution_count": 7,
   "metadata": {},
   "outputs": [
    {
     "data": {
      "text/plain": [
       "[]"
      ]
     },
     "execution_count": 7,
     "metadata": {},
     "output_type": "execute_result"
    }
   ],
   "source": [
    "mobile_name=[]\n",
    "for i in mobile:\n",
    "        mobile_name.append(i.get_text().replace('\\n',''))\n",
    "\n",
    "mobile_name"
   ]
  },
  {
   "cell_type": "code",
   "execution_count": 8,
   "metadata": {},
   "outputs": [
    {
     "data": {
      "text/plain": [
       "[]"
      ]
     },
     "execution_count": 8,
     "metadata": {},
     "output_type": "execute_result"
    }
   ],
   "source": [
    "# so lets extract all tags having the price\n",
    "pr=soup.find_all('span', class_=\"a-price-whole\")\n",
    "pr"
   ]
  },
  {
   "cell_type": "code",
   "execution_count": 9,
   "metadata": {},
   "outputs": [
    {
     "data": {
      "text/plain": [
       "[]"
      ]
     },
     "execution_count": 9,
     "metadata": {},
     "output_type": "execute_result"
    }
   ],
   "source": [
    "price=[]\n",
    "for i in pr:\n",
    "        price.append(i.get_text().replace('\\n',''))\n",
    "\n",
    "price"
   ]
  },
  {
   "cell_type": "code",
   "execution_count": 10,
   "metadata": {},
   "outputs": [
    {
     "data": {
      "text/plain": [
       "[]"
      ]
     },
     "execution_count": 10,
     "metadata": {},
     "output_type": "execute_result"
    }
   ],
   "source": [
    "# so lets extract all tags having the rating\n",
    "rt=soup.find_all('a', class_=\"a-popover-trigger a-declarative\")\n",
    "rt"
   ]
  },
  {
   "cell_type": "code",
   "execution_count": 11,
   "metadata": {},
   "outputs": [
    {
     "data": {
      "text/plain": [
       "[]"
      ]
     },
     "execution_count": 11,
     "metadata": {},
     "output_type": "execute_result"
    }
   ],
   "source": [
    "rating=[]\n",
    "for i in rt:\n",
    "        rating.append(i.get_text().replace('\\n',''))\n",
    "\n",
    "rating"
   ]
  },
  {
   "cell_type": "code",
   "execution_count": 12,
   "metadata": {},
   "outputs": [
    {
     "data": {
      "text/plain": [
       "[]"
      ]
     },
     "execution_count": 12,
     "metadata": {},
     "output_type": "execute_result"
    }
   ],
   "source": [
    "# so lets extract all tags having the rating\n",
    "import re\n",
    "im=soup.find_all('img', {'class':'s-image','src':re.compile('.jpg')})\n",
    "im"
   ]
  },
  {
   "cell_type": "code",
   "execution_count": 13,
   "metadata": {},
   "outputs": [
    {
     "data": {
      "text/plain": [
       "[]"
      ]
     },
     "execution_count": 13,
     "metadata": {},
     "output_type": "execute_result"
    }
   ],
   "source": [
    "image_url=[]\n",
    "for i in im:\n",
    "        a=i['src']+'\\n'\n",
    "        image_url.append(a)\n",
    "\n",
    "image_url"
   ]
  },
  {
   "cell_type": "markdown",
   "metadata": {},
   "source": [
    "Let's create dataframe and store extracted data in table format:"
   ]
  },
  {
   "cell_type": "code",
   "execution_count": 14,
   "metadata": {},
   "outputs": [
    {
     "data": {
      "text/html": [
       "<div>\n",
       "<style scoped>\n",
       "    .dataframe tbody tr th:only-of-type {\n",
       "        vertical-align: middle;\n",
       "    }\n",
       "\n",
       "    .dataframe tbody tr th {\n",
       "        vertical-align: top;\n",
       "    }\n",
       "\n",
       "    .dataframe thead th {\n",
       "        text-align: right;\n",
       "    }\n",
       "</style>\n",
       "<table border=\"1\" class=\"dataframe\">\n",
       "  <thead>\n",
       "    <tr style=\"text-align: right;\">\n",
       "      <th></th>\n",
       "      <th>mobile_name</th>\n",
       "      <th>price</th>\n",
       "      <th>Rating</th>\n",
       "      <th>Image_URL</th>\n",
       "    </tr>\n",
       "  </thead>\n",
       "  <tbody>\n",
       "  </tbody>\n",
       "</table>\n",
       "</div>"
      ],
      "text/plain": [
       "Empty DataFrame\n",
       "Columns: [mobile_name, price, Rating, Image_URL]\n",
       "Index: []"
      ]
     },
     "execution_count": 14,
     "metadata": {},
     "output_type": "execute_result"
    }
   ],
   "source": [
    "Amazon_mobile=pd.DataFrame({})\n",
    "Amazon_mobile['mobile_name']=mobile_name\n",
    "Amazon_mobile['price']= price\n",
    "Amazon_mobile['Rating']=rating\n",
    "Amazon_mobile['Image_URL']=image_url\n",
    "Amazon_mobile"
   ]
  },
  {
   "cell_type": "markdown",
   "metadata": {},
   "source": [
    "# Unable to scrap data because of 503 code"
   ]
  },
  {
   "cell_type": "code",
   "execution_count": null,
   "metadata": {},
   "outputs": [],
   "source": []
  }
 ],
 "metadata": {
  "kernelspec": {
   "display_name": "Python 3",
   "language": "python",
   "name": "python3"
  },
  "language_info": {
   "codemirror_mode": {
    "name": "ipython",
    "version": 3
   },
   "file_extension": ".py",
   "mimetype": "text/x-python",
   "name": "python",
   "nbconvert_exporter": "python",
   "pygments_lexer": "ipython3",
   "version": "3.8.3"
  }
 },
 "nbformat": 4,
 "nbformat_minor": 4
}
